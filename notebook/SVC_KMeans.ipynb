{
 "cells": [
  {
   "cell_type": "code",
   "execution_count": 1,
   "metadata": {},
   "outputs": [],
   "source": [
    "import pandas as pd\n",
    "import numpy as np\n",
    "\n",
    "import math\n",
    "\n",
    "import seaborn as sns\n",
    "import matplotlib.pyplot as plt\n",
    "\n",
    "from sklearn.model_selection import train_test_split\n",
    "from sklearn.preprocessing import LabelEncoder, StandardScaler\n",
    "\n",
    "from sklearn.preprocessing import LabelEncoder\n",
    "\n",
    "import warnings\n",
    "warnings.filterwarnings(\"ignore\")"
   ]
  },
  {
   "cell_type": "code",
   "execution_count": 2,
   "metadata": {},
   "outputs": [
    {
     "data": {
      "text/html": [
       "<div>\n",
       "<style scoped>\n",
       "    .dataframe tbody tr th:only-of-type {\n",
       "        vertical-align: middle;\n",
       "    }\n",
       "\n",
       "    .dataframe tbody tr th {\n",
       "        vertical-align: top;\n",
       "    }\n",
       "\n",
       "    .dataframe thead th {\n",
       "        text-align: right;\n",
       "    }\n",
       "</style>\n",
       "<table border=\"1\" class=\"dataframe\">\n",
       "  <thead>\n",
       "    <tr style=\"text-align: right;\">\n",
       "      <th></th>\n",
       "      <th>MFCCs_ 1</th>\n",
       "      <th>MFCCs_ 2</th>\n",
       "      <th>MFCCs_ 3</th>\n",
       "      <th>MFCCs_ 4</th>\n",
       "      <th>MFCCs_ 5</th>\n",
       "      <th>MFCCs_ 6</th>\n",
       "      <th>MFCCs_ 7</th>\n",
       "      <th>MFCCs_ 8</th>\n",
       "      <th>MFCCs_ 9</th>\n",
       "      <th>MFCCs_10</th>\n",
       "      <th>...</th>\n",
       "      <th>MFCCs_17</th>\n",
       "      <th>MFCCs_18</th>\n",
       "      <th>MFCCs_19</th>\n",
       "      <th>MFCCs_20</th>\n",
       "      <th>MFCCs_21</th>\n",
       "      <th>MFCCs_22</th>\n",
       "      <th>Family</th>\n",
       "      <th>Genus</th>\n",
       "      <th>Species</th>\n",
       "      <th>RecordID</th>\n",
       "    </tr>\n",
       "  </thead>\n",
       "  <tbody>\n",
       "    <tr>\n",
       "      <th>0</th>\n",
       "      <td>1.0</td>\n",
       "      <td>0.152936</td>\n",
       "      <td>-0.105586</td>\n",
       "      <td>0.200722</td>\n",
       "      <td>0.317201</td>\n",
       "      <td>0.260764</td>\n",
       "      <td>0.100945</td>\n",
       "      <td>-0.150063</td>\n",
       "      <td>-0.171128</td>\n",
       "      <td>0.124676</td>\n",
       "      <td>...</td>\n",
       "      <td>-0.108351</td>\n",
       "      <td>-0.077623</td>\n",
       "      <td>-0.009568</td>\n",
       "      <td>0.057684</td>\n",
       "      <td>0.118680</td>\n",
       "      <td>0.014038</td>\n",
       "      <td>Leptodactylidae</td>\n",
       "      <td>Adenomera</td>\n",
       "      <td>AdenomeraAndre</td>\n",
       "      <td>1</td>\n",
       "    </tr>\n",
       "    <tr>\n",
       "      <th>1</th>\n",
       "      <td>1.0</td>\n",
       "      <td>0.171534</td>\n",
       "      <td>-0.098975</td>\n",
       "      <td>0.268425</td>\n",
       "      <td>0.338672</td>\n",
       "      <td>0.268353</td>\n",
       "      <td>0.060835</td>\n",
       "      <td>-0.222475</td>\n",
       "      <td>-0.207693</td>\n",
       "      <td>0.170883</td>\n",
       "      <td>...</td>\n",
       "      <td>-0.090974</td>\n",
       "      <td>-0.056510</td>\n",
       "      <td>-0.035303</td>\n",
       "      <td>0.020140</td>\n",
       "      <td>0.082263</td>\n",
       "      <td>0.029056</td>\n",
       "      <td>Leptodactylidae</td>\n",
       "      <td>Adenomera</td>\n",
       "      <td>AdenomeraAndre</td>\n",
       "      <td>1</td>\n",
       "    </tr>\n",
       "    <tr>\n",
       "      <th>2</th>\n",
       "      <td>1.0</td>\n",
       "      <td>0.152317</td>\n",
       "      <td>-0.082973</td>\n",
       "      <td>0.287128</td>\n",
       "      <td>0.276014</td>\n",
       "      <td>0.189867</td>\n",
       "      <td>0.008714</td>\n",
       "      <td>-0.242234</td>\n",
       "      <td>-0.219153</td>\n",
       "      <td>0.232538</td>\n",
       "      <td>...</td>\n",
       "      <td>-0.050691</td>\n",
       "      <td>-0.023590</td>\n",
       "      <td>-0.066722</td>\n",
       "      <td>-0.025083</td>\n",
       "      <td>0.099108</td>\n",
       "      <td>0.077162</td>\n",
       "      <td>Leptodactylidae</td>\n",
       "      <td>Adenomera</td>\n",
       "      <td>AdenomeraAndre</td>\n",
       "      <td>1</td>\n",
       "    </tr>\n",
       "    <tr>\n",
       "      <th>3</th>\n",
       "      <td>1.0</td>\n",
       "      <td>0.224392</td>\n",
       "      <td>0.118985</td>\n",
       "      <td>0.329432</td>\n",
       "      <td>0.372088</td>\n",
       "      <td>0.361005</td>\n",
       "      <td>0.015501</td>\n",
       "      <td>-0.194347</td>\n",
       "      <td>-0.098181</td>\n",
       "      <td>0.270375</td>\n",
       "      <td>...</td>\n",
       "      <td>-0.136009</td>\n",
       "      <td>-0.177037</td>\n",
       "      <td>-0.130498</td>\n",
       "      <td>-0.054766</td>\n",
       "      <td>-0.018691</td>\n",
       "      <td>0.023954</td>\n",
       "      <td>Leptodactylidae</td>\n",
       "      <td>Adenomera</td>\n",
       "      <td>AdenomeraAndre</td>\n",
       "      <td>1</td>\n",
       "    </tr>\n",
       "    <tr>\n",
       "      <th>4</th>\n",
       "      <td>1.0</td>\n",
       "      <td>0.087817</td>\n",
       "      <td>-0.068345</td>\n",
       "      <td>0.306967</td>\n",
       "      <td>0.330923</td>\n",
       "      <td>0.249144</td>\n",
       "      <td>0.006884</td>\n",
       "      <td>-0.265423</td>\n",
       "      <td>-0.172700</td>\n",
       "      <td>0.266434</td>\n",
       "      <td>...</td>\n",
       "      <td>-0.048885</td>\n",
       "      <td>-0.053074</td>\n",
       "      <td>-0.088550</td>\n",
       "      <td>-0.031346</td>\n",
       "      <td>0.108610</td>\n",
       "      <td>0.079244</td>\n",
       "      <td>Leptodactylidae</td>\n",
       "      <td>Adenomera</td>\n",
       "      <td>AdenomeraAndre</td>\n",
       "      <td>1</td>\n",
       "    </tr>\n",
       "    <tr>\n",
       "      <th>...</th>\n",
       "      <td>...</td>\n",
       "      <td>...</td>\n",
       "      <td>...</td>\n",
       "      <td>...</td>\n",
       "      <td>...</td>\n",
       "      <td>...</td>\n",
       "      <td>...</td>\n",
       "      <td>...</td>\n",
       "      <td>...</td>\n",
       "      <td>...</td>\n",
       "      <td>...</td>\n",
       "      <td>...</td>\n",
       "      <td>...</td>\n",
       "      <td>...</td>\n",
       "      <td>...</td>\n",
       "      <td>...</td>\n",
       "      <td>...</td>\n",
       "      <td>...</td>\n",
       "      <td>...</td>\n",
       "      <td>...</td>\n",
       "      <td>...</td>\n",
       "    </tr>\n",
       "    <tr>\n",
       "      <th>7190</th>\n",
       "      <td>1.0</td>\n",
       "      <td>-0.554504</td>\n",
       "      <td>-0.337717</td>\n",
       "      <td>0.035533</td>\n",
       "      <td>0.034511</td>\n",
       "      <td>0.443451</td>\n",
       "      <td>0.093889</td>\n",
       "      <td>-0.100753</td>\n",
       "      <td>0.037087</td>\n",
       "      <td>0.081075</td>\n",
       "      <td>...</td>\n",
       "      <td>0.069430</td>\n",
       "      <td>0.071001</td>\n",
       "      <td>0.021591</td>\n",
       "      <td>0.052449</td>\n",
       "      <td>-0.021860</td>\n",
       "      <td>-0.079860</td>\n",
       "      <td>Hylidae</td>\n",
       "      <td>Scinax</td>\n",
       "      <td>ScinaxRuber</td>\n",
       "      <td>60</td>\n",
       "    </tr>\n",
       "    <tr>\n",
       "      <th>7191</th>\n",
       "      <td>1.0</td>\n",
       "      <td>-0.517273</td>\n",
       "      <td>-0.370574</td>\n",
       "      <td>0.030673</td>\n",
       "      <td>0.068097</td>\n",
       "      <td>0.402890</td>\n",
       "      <td>0.096628</td>\n",
       "      <td>-0.116460</td>\n",
       "      <td>0.063727</td>\n",
       "      <td>0.089034</td>\n",
       "      <td>...</td>\n",
       "      <td>0.061127</td>\n",
       "      <td>0.068978</td>\n",
       "      <td>0.017745</td>\n",
       "      <td>0.046461</td>\n",
       "      <td>-0.015418</td>\n",
       "      <td>-0.101892</td>\n",
       "      <td>Hylidae</td>\n",
       "      <td>Scinax</td>\n",
       "      <td>ScinaxRuber</td>\n",
       "      <td>60</td>\n",
       "    </tr>\n",
       "    <tr>\n",
       "      <th>7192</th>\n",
       "      <td>1.0</td>\n",
       "      <td>-0.582557</td>\n",
       "      <td>-0.343237</td>\n",
       "      <td>0.029468</td>\n",
       "      <td>0.064179</td>\n",
       "      <td>0.385596</td>\n",
       "      <td>0.114905</td>\n",
       "      <td>-0.103317</td>\n",
       "      <td>0.070370</td>\n",
       "      <td>0.081317</td>\n",
       "      <td>...</td>\n",
       "      <td>0.082474</td>\n",
       "      <td>0.077771</td>\n",
       "      <td>-0.009688</td>\n",
       "      <td>0.027834</td>\n",
       "      <td>-0.000531</td>\n",
       "      <td>-0.080425</td>\n",
       "      <td>Hylidae</td>\n",
       "      <td>Scinax</td>\n",
       "      <td>ScinaxRuber</td>\n",
       "      <td>60</td>\n",
       "    </tr>\n",
       "    <tr>\n",
       "      <th>7193</th>\n",
       "      <td>1.0</td>\n",
       "      <td>-0.519497</td>\n",
       "      <td>-0.307553</td>\n",
       "      <td>-0.004922</td>\n",
       "      <td>0.072865</td>\n",
       "      <td>0.377131</td>\n",
       "      <td>0.086866</td>\n",
       "      <td>-0.115799</td>\n",
       "      <td>0.056979</td>\n",
       "      <td>0.089316</td>\n",
       "      <td>...</td>\n",
       "      <td>0.051796</td>\n",
       "      <td>0.069073</td>\n",
       "      <td>0.017963</td>\n",
       "      <td>0.041803</td>\n",
       "      <td>-0.027911</td>\n",
       "      <td>-0.096895</td>\n",
       "      <td>Hylidae</td>\n",
       "      <td>Scinax</td>\n",
       "      <td>ScinaxRuber</td>\n",
       "      <td>60</td>\n",
       "    </tr>\n",
       "    <tr>\n",
       "      <th>7194</th>\n",
       "      <td>1.0</td>\n",
       "      <td>-0.508833</td>\n",
       "      <td>-0.324106</td>\n",
       "      <td>0.062068</td>\n",
       "      <td>0.078211</td>\n",
       "      <td>0.397188</td>\n",
       "      <td>0.094596</td>\n",
       "      <td>-0.117672</td>\n",
       "      <td>0.058874</td>\n",
       "      <td>0.076180</td>\n",
       "      <td>...</td>\n",
       "      <td>0.061455</td>\n",
       "      <td>0.072983</td>\n",
       "      <td>-0.003980</td>\n",
       "      <td>0.031560</td>\n",
       "      <td>-0.029355</td>\n",
       "      <td>-0.087910</td>\n",
       "      <td>Hylidae</td>\n",
       "      <td>Scinax</td>\n",
       "      <td>ScinaxRuber</td>\n",
       "      <td>60</td>\n",
       "    </tr>\n",
       "  </tbody>\n",
       "</table>\n",
       "<p>7195 rows × 26 columns</p>\n",
       "</div>"
      ],
      "text/plain": [
       "      MFCCs_ 1  MFCCs_ 2  MFCCs_ 3  MFCCs_ 4  MFCCs_ 5  MFCCs_ 6  MFCCs_ 7  \\\n",
       "0          1.0  0.152936 -0.105586  0.200722  0.317201  0.260764  0.100945   \n",
       "1          1.0  0.171534 -0.098975  0.268425  0.338672  0.268353  0.060835   \n",
       "2          1.0  0.152317 -0.082973  0.287128  0.276014  0.189867  0.008714   \n",
       "3          1.0  0.224392  0.118985  0.329432  0.372088  0.361005  0.015501   \n",
       "4          1.0  0.087817 -0.068345  0.306967  0.330923  0.249144  0.006884   \n",
       "...        ...       ...       ...       ...       ...       ...       ...   \n",
       "7190       1.0 -0.554504 -0.337717  0.035533  0.034511  0.443451  0.093889   \n",
       "7191       1.0 -0.517273 -0.370574  0.030673  0.068097  0.402890  0.096628   \n",
       "7192       1.0 -0.582557 -0.343237  0.029468  0.064179  0.385596  0.114905   \n",
       "7193       1.0 -0.519497 -0.307553 -0.004922  0.072865  0.377131  0.086866   \n",
       "7194       1.0 -0.508833 -0.324106  0.062068  0.078211  0.397188  0.094596   \n",
       "\n",
       "      MFCCs_ 8  MFCCs_ 9  MFCCs_10  ...  MFCCs_17  MFCCs_18  MFCCs_19  \\\n",
       "0    -0.150063 -0.171128  0.124676  ... -0.108351 -0.077623 -0.009568   \n",
       "1    -0.222475 -0.207693  0.170883  ... -0.090974 -0.056510 -0.035303   \n",
       "2    -0.242234 -0.219153  0.232538  ... -0.050691 -0.023590 -0.066722   \n",
       "3    -0.194347 -0.098181  0.270375  ... -0.136009 -0.177037 -0.130498   \n",
       "4    -0.265423 -0.172700  0.266434  ... -0.048885 -0.053074 -0.088550   \n",
       "...        ...       ...       ...  ...       ...       ...       ...   \n",
       "7190 -0.100753  0.037087  0.081075  ...  0.069430  0.071001  0.021591   \n",
       "7191 -0.116460  0.063727  0.089034  ...  0.061127  0.068978  0.017745   \n",
       "7192 -0.103317  0.070370  0.081317  ...  0.082474  0.077771 -0.009688   \n",
       "7193 -0.115799  0.056979  0.089316  ...  0.051796  0.069073  0.017963   \n",
       "7194 -0.117672  0.058874  0.076180  ...  0.061455  0.072983 -0.003980   \n",
       "\n",
       "      MFCCs_20  MFCCs_21  MFCCs_22           Family      Genus  \\\n",
       "0     0.057684  0.118680  0.014038  Leptodactylidae  Adenomera   \n",
       "1     0.020140  0.082263  0.029056  Leptodactylidae  Adenomera   \n",
       "2    -0.025083  0.099108  0.077162  Leptodactylidae  Adenomera   \n",
       "3    -0.054766 -0.018691  0.023954  Leptodactylidae  Adenomera   \n",
       "4    -0.031346  0.108610  0.079244  Leptodactylidae  Adenomera   \n",
       "...        ...       ...       ...              ...        ...   \n",
       "7190  0.052449 -0.021860 -0.079860          Hylidae     Scinax   \n",
       "7191  0.046461 -0.015418 -0.101892          Hylidae     Scinax   \n",
       "7192  0.027834 -0.000531 -0.080425          Hylidae     Scinax   \n",
       "7193  0.041803 -0.027911 -0.096895          Hylidae     Scinax   \n",
       "7194  0.031560 -0.029355 -0.087910          Hylidae     Scinax   \n",
       "\n",
       "             Species  RecordID  \n",
       "0     AdenomeraAndre         1  \n",
       "1     AdenomeraAndre         1  \n",
       "2     AdenomeraAndre         1  \n",
       "3     AdenomeraAndre         1  \n",
       "4     AdenomeraAndre         1  \n",
       "...              ...       ...  \n",
       "7190     ScinaxRuber        60  \n",
       "7191     ScinaxRuber        60  \n",
       "7192     ScinaxRuber        60  \n",
       "7193     ScinaxRuber        60  \n",
       "7194     ScinaxRuber        60  \n",
       "\n",
       "[7195 rows x 26 columns]"
      ]
     },
     "execution_count": 2,
     "metadata": {},
     "output_type": "execute_result"
    }
   ],
   "source": [
    "#Loading data into dataframe\n",
    "MFCC_DF = pd.read_csv(\"../data/Anuran Calls (MFCCs)/Frogs_MFCCs.csv\")\n",
    "MFCC_DF"
   ]
  },
  {
   "cell_type": "code",
   "execution_count": 43,
   "metadata": {},
   "outputs": [
    {
     "name": "stdout",
     "output_type": "stream",
     "text": [
      "Size of dataset: (7195, 26)\n"
     ]
    }
   ],
   "source": [
    "print(\"Size of dataset:\", MFCC_DF.shape)"
   ]
  },
  {
   "cell_type": "markdown",
   "metadata": {},
   "source": [
    "# Explore the labels"
   ]
  },
  {
   "cell_type": "code",
   "execution_count": 3,
   "metadata": {},
   "outputs": [
    {
     "name": "stdout",
     "output_type": "stream",
     "text": [
      "Family Label\n",
      "\n",
      "Leptodactylidae    4420\n",
      "Hylidae            2165\n",
      "Dendrobatidae       542\n",
      "Bufonidae            68\n",
      "Name: Family, dtype: int64\n",
      "------------------------------------------------------------------\n",
      "Genus Label\n",
      "\n",
      "Adenomera        4150\n",
      "Hypsiboas        1593\n",
      "Ameerega          542\n",
      "Dendropsophus     310\n",
      "Leptodactylus     270\n",
      "Scinax            148\n",
      "Osteocephalus     114\n",
      "Rhinella           68\n",
      "Name: Genus, dtype: int64\n",
      "------------------------------------------------------------------\n",
      "Species Label\n",
      "\n",
      "AdenomeraHylaedactylus    3478\n",
      "HypsiboasCordobae         1121\n",
      "AdenomeraAndre             672\n",
      "Ameeregatrivittata         542\n",
      "HypsiboasCinerascens       472\n",
      "HylaMinuta                 310\n",
      "LeptodactylusFuscus        270\n",
      "ScinaxRuber                148\n",
      "OsteocephalusOophagus      114\n",
      "Rhinellagranulosa           68\n",
      "Name: Species, dtype: int64\n"
     ]
    }
   ],
   "source": [
    "MFCC_Fam = MFCC_DF['Family']\n",
    "MFCC_Gen = MFCC_DF['Genus']\n",
    "MFCC_Spe = MFCC_DF['Species']\n",
    "\n",
    "print(\"Family Label\\n\")\n",
    "print(MFCC_Fam.value_counts())\n",
    "print(\"------------------------------------------------------------------\")\n",
    "\n",
    "print(\"Genus Label\\n\")\n",
    "print(MFCC_Gen.value_counts())\n",
    "print(\"------------------------------------------------------------------\")\n",
    "\n",
    "print(\"Species Label\\n\")\n",
    "print(MFCC_Spe.value_counts())"
   ]
  },
  {
   "cell_type": "markdown",
   "metadata": {},
   "source": [
    "# Choose 70% of the data randomly as the training set."
   ]
  },
  {
   "cell_type": "code",
   "execution_count": 4,
   "metadata": {},
   "outputs": [],
   "source": [
    "X = MFCC_DF.iloc[:, :22]\n",
    "y = MFCC_DF.iloc[:, 22:25]\n",
    "\n",
    "X_train, X_test, y_train, y_test = train_test_split(X, y, test_size=0.30, random_state=42)\n",
    "\n",
    "# Standardize the features\n",
    "std = StandardScaler()\n",
    "X_train = std.fit_transform(X_train)\n",
    "X_test = std.transform(X_test)\n",
    "\n",
    "#Label encoding to convert categorical fatures\n",
    "encoder = LabelEncoder()\n",
    "train = y_train.apply(encoder.fit_transform)\n",
    "test = y_test.apply(encoder.fit_transform)\n",
    "\n",
    "train_Family = train.iloc[:, 0]\n",
    "train_Genus = train.iloc[:, 1]\n",
    "train_Species = train.iloc[:, 2]\n",
    "\n",
    "\n",
    "test_Family = test.iloc[:, 0]\n",
    "test_Genus = test.iloc[:, 1]\n",
    "test_Species = test.iloc[:, 2]"
   ]
  },
  {
   "cell_type": "code",
   "execution_count": 44,
   "metadata": {},
   "outputs": [
    {
     "name": "stdout",
     "output_type": "stream",
     "text": [
      "Training dataset:  (5036, 22)\n",
      "Test dataset:  (2159, 22)\n"
     ]
    }
   ],
   "source": [
    "print(\"Training dataset: \", X_train.shape)\n",
    "print(\"Test dataset: \",X_test.shape)"
   ]
  },
  {
   "cell_type": "markdown",
   "metadata": {},
   "source": [
    "\n",
    "Exact match- Fraction of sample that have all their labels classified correctly \n",
    "\n",
    "Hamming score - Proportion of incorrectly predicted labels to total number of labels"
   ]
  },
  {
   "cell_type": "code",
   "execution_count": 5,
   "metadata": {},
   "outputs": [],
   "source": [
    "#Exact match score calculation\n",
    "\n",
    "def get_exact_match(y_true, y_pred):\n",
    "    exact_match_rows = np.all(y_true == y_pred, axis = 1)\n",
    "    exact_match_count = np.sum(exact_match_rows)\n",
    "    emr = exact_match_count/len(y_true)\n",
    "    print(\"Exact match score: \",emr)\n",
    "    return emr"
   ]
  },
  {
   "cell_type": "code",
   "execution_count": 6,
   "metadata": {},
   "outputs": [],
   "source": [
    "#Hamming score calculation\n",
    "def get_hamming(y_true, y_pred):\n",
    "    incorrect_labels = np.logical_xor(y_true, y_pred)\n",
    "    incorrect_labels_count = np.sum(incorrect_labels)\n",
    "    hamming = 1-(incorrect_labels_count/len(y_true))\n",
    "    print(\"Hamming Score: \",hamming)\n",
    "    return hamming"
   ]
  },
  {
   "cell_type": "markdown",
   "metadata": {},
   "source": [
    "#  Training a SVM for each of the labels, using Gaussian kernels and one versus all classifiers. Determining the weight of the SVM penalty and the width of the Gaussian Kernel using 10 fold cross validation."
   ]
  },
  {
   "cell_type": "code",
   "execution_count": 7,
   "metadata": {},
   "outputs": [
    {
     "data": {
      "text/plain": [
       "'https://scikit-learn.org/stable/auto_examples/model_selection/plot_grid_search_digits.html'"
      ]
     },
     "execution_count": 7,
     "metadata": {},
     "output_type": "execute_result"
    }
   ],
   "source": [
    "from sklearn.model_selection import GridSearchCV\n",
    "from sklearn.model_selection import StratifiedKFold\n",
    "from sklearn.svm import SVC\n",
    "from sklearn.metrics import classification_report, confusion_matrix, f1_score\n",
    "\n",
    "\"\"\"https://scikit-learn.org/stable/auto_examples/model_selection/plot_grid_search_digits.html\"\"\""
   ]
  },
  {
   "cell_type": "code",
   "execution_count": 8,
   "metadata": {},
   "outputs": [],
   "source": [
    "def getBestParams(classifier, settings, train_X, train_Y, test_X, test_Y):\n",
    "    \n",
    "    clf = GridSearchCV(estimator=classifier, **settings)\n",
    "    %time clf.fit(train_X, train_Y)\n",
    "    print(\"Grid scores :\\n\")\n",
    "    means = clf.cv_results_['mean_test_score']\n",
    "    stds = clf.cv_results_['std_test_score']\n",
    "    for mean, std, params in zip(means, stds, clf.cv_results_['params']):\n",
    "        print(\"%0.3f (+/-%0.03f) for %r\"% (mean, std * 2, params))\n",
    "    \n",
    "    # output the best option\n",
    "    print(\"\\nOptimal parameters :\")\n",
    "    print(clf.best_params_, \"\\n\")\n",
    "    \n",
    "    return clf.best_params_"
   ]
  },
  {
   "cell_type": "code",
   "execution_count": 9,
   "metadata": {},
   "outputs": [],
   "source": [
    "def svc(X_train,train_Label,X_test,test_Label,param):\n",
    "    svc = SVC(**param) # default - decision_function_shape='ovr'\n",
    "    svc.fit(X_train, train_Label)\n",
    "    return svc.predict(X_test)"
   ]
  },
  {
   "cell_type": "code",
   "execution_count": 10,
   "metadata": {},
   "outputs": [],
   "source": [
    "# dict to store resukts of all gausian classifiers\n",
    "SV_classifiers = {}\n",
    "params = {'C' : np.logspace(1, 4, 4), 'gamma' : np.logspace(-3, 5, 10)}\n",
    "kfold = StratifiedKFold(10, random_state=28, shuffle=True)\n",
    "settings = {'cv' : kfold,'param_grid' : params,'scoring' : 'f1_weighted','verbose' : 1,'n_jobs':-1}"
   ]
  },
  {
   "cell_type": "code",
   "execution_count": 11,
   "metadata": {},
   "outputs": [
    {
     "name": "stdout",
     "output_type": "stream",
     "text": [
      "Fitting 10 folds for each of 40 candidates, totalling 400 fits\n",
      "Wall time: 6min 26s\n",
      "Grid scores :\n",
      "\n",
      "0.948 (+/-0.018) for {'C': 10.0, 'gamma': 0.001}\n",
      "0.986 (+/-0.012) for {'C': 10.0, 'gamma': 0.007742636826811269}\n",
      "0.992 (+/-0.008) for {'C': 10.0, 'gamma': 0.05994842503189409}\n",
      "0.974 (+/-0.010) for {'C': 10.0, 'gamma': 0.46415888336127775}\n",
      "0.690 (+/-0.039) for {'C': 10.0, 'gamma': 3.593813663804626}\n",
      "0.473 (+/-0.010) for {'C': 10.0, 'gamma': 27.825594022071257}\n",
      "0.464 (+/-0.004) for {'C': 10.0, 'gamma': 215.44346900318823}\n",
      "0.462 (+/-0.002) for {'C': 10.0, 'gamma': 1668.1005372000557}\n",
      "0.462 (+/-0.002) for {'C': 10.0, 'gamma': 12915.496650148827}\n",
      "0.462 (+/-0.002) for {'C': 10.0, 'gamma': 100000.0}\n",
      "0.976 (+/-0.013) for {'C': 100.0, 'gamma': 0.001}\n",
      "0.987 (+/-0.008) for {'C': 100.0, 'gamma': 0.007742636826811269}\n",
      "0.992 (+/-0.009) for {'C': 100.0, 'gamma': 0.05994842503189409}\n",
      "0.974 (+/-0.010) for {'C': 100.0, 'gamma': 0.46415888336127775}\n",
      "0.690 (+/-0.039) for {'C': 100.0, 'gamma': 3.593813663804626}\n",
      "0.473 (+/-0.010) for {'C': 100.0, 'gamma': 27.825594022071257}\n",
      "0.464 (+/-0.004) for {'C': 100.0, 'gamma': 215.44346900318823}\n",
      "0.462 (+/-0.002) for {'C': 100.0, 'gamma': 1668.1005372000557}\n",
      "0.462 (+/-0.002) for {'C': 100.0, 'gamma': 12915.496650148827}\n",
      "0.462 (+/-0.002) for {'C': 100.0, 'gamma': 100000.0}\n",
      "0.982 (+/-0.010) for {'C': 1000.0, 'gamma': 0.001}\n",
      "0.987 (+/-0.009) for {'C': 1000.0, 'gamma': 0.007742636826811269}\n",
      "0.992 (+/-0.009) for {'C': 1000.0, 'gamma': 0.05994842503189409}\n",
      "0.974 (+/-0.010) for {'C': 1000.0, 'gamma': 0.46415888336127775}\n",
      "0.690 (+/-0.039) for {'C': 1000.0, 'gamma': 3.593813663804626}\n",
      "0.473 (+/-0.010) for {'C': 1000.0, 'gamma': 27.825594022071257}\n",
      "0.464 (+/-0.004) for {'C': 1000.0, 'gamma': 215.44346900318823}\n",
      "0.462 (+/-0.002) for {'C': 1000.0, 'gamma': 1668.1005372000557}\n",
      "0.462 (+/-0.002) for {'C': 1000.0, 'gamma': 12915.496650148827}\n",
      "0.462 (+/-0.002) for {'C': 1000.0, 'gamma': 100000.0}\n",
      "0.984 (+/-0.008) for {'C': 10000.0, 'gamma': 0.001}\n",
      "0.987 (+/-0.009) for {'C': 10000.0, 'gamma': 0.007742636826811269}\n",
      "0.992 (+/-0.009) for {'C': 10000.0, 'gamma': 0.05994842503189409}\n",
      "0.974 (+/-0.010) for {'C': 10000.0, 'gamma': 0.46415888336127775}\n",
      "0.690 (+/-0.039) for {'C': 10000.0, 'gamma': 3.593813663804626}\n",
      "0.473 (+/-0.010) for {'C': 10000.0, 'gamma': 27.825594022071257}\n",
      "0.464 (+/-0.004) for {'C': 10000.0, 'gamma': 215.44346900318823}\n",
      "0.462 (+/-0.002) for {'C': 10000.0, 'gamma': 1668.1005372000557}\n",
      "0.462 (+/-0.002) for {'C': 10000.0, 'gamma': 12915.496650148827}\n",
      "0.462 (+/-0.002) for {'C': 10000.0, 'gamma': 100000.0}\n",
      "\n",
      "Optimal parameters :\n",
      "{'C': 100.0, 'gamma': 0.05994842503189409} \n",
      "\n"
     ]
    }
   ],
   "source": [
    "# Label - Family \n",
    "SV_classifiers['Family'] = getBestParams(SVC(kernel='rbf'), settings,X_train, train_Family, X_test, test_Family)"
   ]
  },
  {
   "cell_type": "code",
   "execution_count": 12,
   "metadata": {},
   "outputs": [
    {
     "name": "stdout",
     "output_type": "stream",
     "text": [
      "Fitting 10 folds for each of 40 candidates, totalling 400 fits\n",
      "Wall time: 11min 21s\n",
      "Grid scores :\n",
      "\n",
      "0.955 (+/-0.025) for {'C': 10.0, 'gamma': 0.001}\n",
      "0.987 (+/-0.011) for {'C': 10.0, 'gamma': 0.007742636826811269}\n",
      "0.991 (+/-0.012) for {'C': 10.0, 'gamma': 0.05994842503189409}\n",
      "0.950 (+/-0.017) for {'C': 10.0, 'gamma': 0.46415888336127775}\n",
      "0.630 (+/-0.036) for {'C': 10.0, 'gamma': 3.593813663804626}\n",
      "0.428 (+/-0.007) for {'C': 10.0, 'gamma': 27.825594022071257}\n",
      "0.422 (+/-0.004) for {'C': 10.0, 'gamma': 215.44346900318823}\n",
      "0.421 (+/-0.002) for {'C': 10.0, 'gamma': 1668.1005372000557}\n",
      "0.421 (+/-0.002) for {'C': 10.0, 'gamma': 12915.496650148827}\n",
      "0.421 (+/-0.002) for {'C': 10.0, 'gamma': 100000.0}\n",
      "0.978 (+/-0.012) for {'C': 100.0, 'gamma': 0.001}\n",
      "0.987 (+/-0.010) for {'C': 100.0, 'gamma': 0.007742636826811269}\n",
      "0.991 (+/-0.012) for {'C': 100.0, 'gamma': 0.05994842503189409}\n",
      "0.950 (+/-0.017) for {'C': 100.0, 'gamma': 0.46415888336127775}\n",
      "0.630 (+/-0.036) for {'C': 100.0, 'gamma': 3.593813663804626}\n",
      "0.428 (+/-0.007) for {'C': 100.0, 'gamma': 27.825594022071257}\n",
      "0.422 (+/-0.004) for {'C': 100.0, 'gamma': 215.44346900318823}\n",
      "0.421 (+/-0.002) for {'C': 100.0, 'gamma': 1668.1005372000557}\n",
      "0.421 (+/-0.002) for {'C': 100.0, 'gamma': 12915.496650148827}\n",
      "0.421 (+/-0.002) for {'C': 100.0, 'gamma': 100000.0}\n",
      "0.984 (+/-0.010) for {'C': 1000.0, 'gamma': 0.001}\n",
      "0.988 (+/-0.008) for {'C': 1000.0, 'gamma': 0.007742636826811269}\n",
      "0.991 (+/-0.012) for {'C': 1000.0, 'gamma': 0.05994842503189409}\n",
      "0.950 (+/-0.017) for {'C': 1000.0, 'gamma': 0.46415888336127775}\n",
      "0.630 (+/-0.036) for {'C': 1000.0, 'gamma': 3.593813663804626}\n",
      "0.428 (+/-0.007) for {'C': 1000.0, 'gamma': 27.825594022071257}\n",
      "0.422 (+/-0.004) for {'C': 1000.0, 'gamma': 215.44346900318823}\n",
      "0.421 (+/-0.002) for {'C': 1000.0, 'gamma': 1668.1005372000557}\n",
      "0.421 (+/-0.002) for {'C': 1000.0, 'gamma': 12915.496650148827}\n",
      "0.421 (+/-0.002) for {'C': 1000.0, 'gamma': 100000.0}\n",
      "0.983 (+/-0.014) for {'C': 10000.0, 'gamma': 0.001}\n",
      "0.988 (+/-0.008) for {'C': 10000.0, 'gamma': 0.007742636826811269}\n",
      "0.991 (+/-0.012) for {'C': 10000.0, 'gamma': 0.05994842503189409}\n",
      "0.950 (+/-0.017) for {'C': 10000.0, 'gamma': 0.46415888336127775}\n",
      "0.630 (+/-0.036) for {'C': 10000.0, 'gamma': 3.593813663804626}\n",
      "0.428 (+/-0.007) for {'C': 10000.0, 'gamma': 27.825594022071257}\n",
      "0.422 (+/-0.004) for {'C': 10000.0, 'gamma': 215.44346900318823}\n",
      "0.421 (+/-0.002) for {'C': 10000.0, 'gamma': 1668.1005372000557}\n",
      "0.421 (+/-0.002) for {'C': 10000.0, 'gamma': 12915.496650148827}\n",
      "0.421 (+/-0.002) for {'C': 10000.0, 'gamma': 100000.0}\n",
      "\n",
      "Optimal parameters :\n",
      "{'C': 10.0, 'gamma': 0.05994842503189409} \n",
      "\n"
     ]
    }
   ],
   "source": [
    "# Label - Genus \n",
    "SV_classifiers['Genus'] = getBestParams(SVC(kernel='rbf'), settings,X_train, train_Genus, X_test, test_Genus)"
   ]
  },
  {
   "cell_type": "code",
   "execution_count": 13,
   "metadata": {},
   "outputs": [
    {
     "name": "stdout",
     "output_type": "stream",
     "text": [
      "Fitting 10 folds for each of 40 candidates, totalling 400 fits\n",
      "Wall time: 9min 39s\n",
      "Grid scores :\n",
      "\n",
      "0.967 (+/-0.015) for {'C': 10.0, 'gamma': 0.001}\n",
      "0.987 (+/-0.008) for {'C': 10.0, 'gamma': 0.007742636826811269}\n",
      "0.990 (+/-0.006) for {'C': 10.0, 'gamma': 0.05994842503189409}\n",
      "0.939 (+/-0.020) for {'C': 10.0, 'gamma': 0.46415888336127775}\n",
      "0.501 (+/-0.018) for {'C': 10.0, 'gamma': 3.593813663804626}\n",
      "0.324 (+/-0.007) for {'C': 10.0, 'gamma': 27.825594022071257}\n",
      "0.319 (+/-0.004) for {'C': 10.0, 'gamma': 215.44346900318823}\n",
      "0.318 (+/-0.001) for {'C': 10.0, 'gamma': 1668.1005372000557}\n",
      "0.318 (+/-0.001) for {'C': 10.0, 'gamma': 12915.496650148827}\n",
      "0.318 (+/-0.001) for {'C': 10.0, 'gamma': 100000.0}\n",
      "0.981 (+/-0.011) for {'C': 100.0, 'gamma': 0.001}\n",
      "0.988 (+/-0.005) for {'C': 100.0, 'gamma': 0.007742636826811269}\n",
      "0.990 (+/-0.008) for {'C': 100.0, 'gamma': 0.05994842503189409}\n",
      "0.939 (+/-0.020) for {'C': 100.0, 'gamma': 0.46415888336127775}\n",
      "0.501 (+/-0.018) for {'C': 100.0, 'gamma': 3.593813663804626}\n",
      "0.324 (+/-0.007) for {'C': 100.0, 'gamma': 27.825594022071257}\n",
      "0.319 (+/-0.004) for {'C': 100.0, 'gamma': 215.44346900318823}\n",
      "0.318 (+/-0.001) for {'C': 100.0, 'gamma': 1668.1005372000557}\n",
      "0.318 (+/-0.001) for {'C': 100.0, 'gamma': 12915.496650148827}\n",
      "0.318 (+/-0.001) for {'C': 100.0, 'gamma': 100000.0}\n",
      "0.984 (+/-0.008) for {'C': 1000.0, 'gamma': 0.001}\n",
      "0.988 (+/-0.006) for {'C': 1000.0, 'gamma': 0.007742636826811269}\n",
      "0.990 (+/-0.008) for {'C': 1000.0, 'gamma': 0.05994842503189409}\n",
      "0.939 (+/-0.020) for {'C': 1000.0, 'gamma': 0.46415888336127775}\n",
      "0.501 (+/-0.018) for {'C': 1000.0, 'gamma': 3.593813663804626}\n",
      "0.324 (+/-0.007) for {'C': 1000.0, 'gamma': 27.825594022071257}\n",
      "0.319 (+/-0.004) for {'C': 1000.0, 'gamma': 215.44346900318823}\n",
      "0.318 (+/-0.001) for {'C': 1000.0, 'gamma': 1668.1005372000557}\n",
      "0.318 (+/-0.001) for {'C': 1000.0, 'gamma': 12915.496650148827}\n",
      "0.318 (+/-0.001) for {'C': 1000.0, 'gamma': 100000.0}\n",
      "0.984 (+/-0.009) for {'C': 10000.0, 'gamma': 0.001}\n",
      "0.988 (+/-0.006) for {'C': 10000.0, 'gamma': 0.007742636826811269}\n",
      "0.990 (+/-0.008) for {'C': 10000.0, 'gamma': 0.05994842503189409}\n",
      "0.939 (+/-0.020) for {'C': 10000.0, 'gamma': 0.46415888336127775}\n",
      "0.501 (+/-0.018) for {'C': 10000.0, 'gamma': 3.593813663804626}\n",
      "0.324 (+/-0.007) for {'C': 10000.0, 'gamma': 27.825594022071257}\n",
      "0.319 (+/-0.004) for {'C': 10000.0, 'gamma': 215.44346900318823}\n",
      "0.318 (+/-0.001) for {'C': 10000.0, 'gamma': 1668.1005372000557}\n",
      "0.318 (+/-0.001) for {'C': 10000.0, 'gamma': 12915.496650148827}\n",
      "0.318 (+/-0.001) for {'C': 10000.0, 'gamma': 100000.0}\n",
      "\n",
      "Optimal parameters :\n",
      "{'C': 100.0, 'gamma': 0.05994842503189409} \n",
      "\n"
     ]
    }
   ],
   "source": [
    "# Label - Species \n",
    "SV_classifiers['Species'] = getBestParams(SVC(kernel='rbf'), settings,X_train, train_Species, X_test, test_Species)"
   ]
  },
  {
   "cell_type": "code",
   "execution_count": 14,
   "metadata": {},
   "outputs": [],
   "source": [
    "def get_Metrics(y_test, y_pred):\n",
    "    \n",
    "    cols = y_test.columns    \n",
    "    for col in cols:\n",
    "        print(classification_report(y_test[col], y_pred[col]))"
   ]
  },
  {
   "cell_type": "code",
   "execution_count": 15,
   "metadata": {},
   "outputs": [
    {
     "name": "stdout",
     "output_type": "stream",
     "text": [
      "SVC with Gaussian Kernal Performance on test data:\n",
      "Exact match score:  0.9865678554886521\n",
      "Hamming Score:  0.9916628068550255\n"
     ]
    }
   ],
   "source": [
    "emr_scores = {}\n",
    "hamming_Scores ={}\n",
    "#Predictions for all 3 labels\n",
    "pred_Family = svc(X_train,train_Family,X_test,test_Family,SV_classifiers['Family'])\n",
    "pred_Genus = svc(X_train,train_Genus,X_test,test_Genus,SV_classifiers['Genus'])\n",
    "pred_Species = svc(X_train,train_Species,X_test,test_Species,SV_classifiers['Species'])\n",
    "\n",
    "#Stack predictions and test for all 3 labels\n",
    "y_test = np.column_stack((test_Family, test_Genus, test_Species))\n",
    "y_pred = np.column_stack((pred_Family, pred_Genus, pred_Species))\n",
    "\n",
    "#Get exact match ratio and Hamming score \n",
    "print(\"SVC with Gaussian Kernal Performance on test data:\")\n",
    "emr_scores['gaussian'] = get_exact_match(y_test, y_pred)\n",
    "hamming_Scores['gaussian'] = get_hamming(y_test, y_pred)"
   ]
  },
  {
   "cell_type": "code",
   "execution_count": 16,
   "metadata": {},
   "outputs": [
    {
     "name": "stdout",
     "output_type": "stream",
     "text": [
      "Evaluation of 'Family' label:\n",
      "\n",
      "[[  25    0    2    0]\n",
      " [   0  162    0    0]\n",
      " [   0    0  620    3]\n",
      " [   1    0    8 1338]]\n",
      "F1-score: 0.994\n",
      "Evaluation of 'Family' label:\n",
      "\n",
      "[[1245    0    1    4    0    1    0    0]\n",
      " [   0  162    0    0    0    0    0    0]\n",
      " [   2    0   81    1    0    0    0    0]\n",
      " [   0    0    0  467    0    1    0    0]\n",
      " [   0    0    0    3   93    0    0    0]\n",
      " [   0    0    0    5    0   29    0    0]\n",
      " [   0    0    0    2    0    0   25    0]\n",
      " [   1    0    0    1    0    0    0   35]]\n",
      "F1-score: 0.990\n",
      "Evaluation of 'Family' label:\n",
      "\n",
      "[[ 215    0    0    0    2    2    0    1    0    0]\n",
      " [   0 1030    0    0    0    1    0    0    0    0]\n",
      " [   0    0  162    0    0    0    0    0    0    0]\n",
      " [   0    1    0   81    0    2    0    0    0    0]\n",
      " [   0    0    0    0  131    2    0    2    0    0]\n",
      " [   0    0    0    0    0  333    0    0    0    0]\n",
      " [   0    0    0    0    0    2   93    1    0    0]\n",
      " [   0    0    0    0    3    2    0   29    0    0]\n",
      " [   0    0    0    0    0    2    0    0   25    0]\n",
      " [   1    0    0    0    0    1    0    0    0   35]]\n",
      "F1-score: 0.988\n"
     ]
    }
   ],
   "source": [
    "#Classification report: Confusion matrix,f1-score\n",
    "print(\"Evaluation of 'Family' label:\\n\") \n",
    "print(confusion_matrix(test_Family, pred_Family))\n",
    "print('F1-score: %0.3f' % f1_score(test_Family, pred_Family, average='weighted'))\n",
    "\n",
    "print(\"Evaluation of 'Family' label:\\n\") \n",
    "print(confusion_matrix(test_Genus, pred_Genus))\n",
    "print('F1-score: %0.3f' % f1_score(test_Genus, pred_Genus, average='weighted'))\n",
    "\n",
    "print(\"Evaluation of 'Family' label:\\n\") \n",
    "print(confusion_matrix(test_Species, pred_Species))\n",
    "print('F1-score: %0.3f' % f1_score(test_Species, pred_Species, average='weighted'))"
   ]
  },
  {
   "cell_type": "markdown",
   "metadata": {},
   "source": [
    "#  Repeat  with L1-penalized SVMs"
   ]
  },
  {
   "cell_type": "code",
   "execution_count": 17,
   "metadata": {},
   "outputs": [],
   "source": [
    "from sklearn.svm import LinearSVC"
   ]
  },
  {
   "cell_type": "code",
   "execution_count": 18,
   "metadata": {},
   "outputs": [],
   "source": [
    "L1_penalized_classifiers = {}\n",
    "params = {'C' : np.logspace(1, 5, 10)}\n",
    "settings = {'cv' : kfold,'param_grid' : params,'scoring' : 'f1_weighted','verbose' : 1,'n_jobs':-1}"
   ]
  },
  {
   "cell_type": "code",
   "execution_count": 19,
   "metadata": {},
   "outputs": [],
   "source": [
    "def lin_svc(X_train,train_Label,X_test,test_Label,param):\n",
    "    svc = LinearSVC(**param,penalty='l1', dual=False)\n",
    "    svc.fit(X_train, train_Label)\n",
    "    return svc.predict(X_test)"
   ]
  },
  {
   "cell_type": "code",
   "execution_count": 20,
   "metadata": {},
   "outputs": [
    {
     "name": "stdout",
     "output_type": "stream",
     "text": [
      "Fitting 10 folds for each of 10 candidates, totalling 100 fits\n",
      "Wall time: 51.9 s\n",
      "Grid scores :\n",
      "\n",
      "0.938 (+/-0.026) for {'C': 10.0}\n",
      "0.938 (+/-0.026) for {'C': 27.825594022071243}\n",
      "0.938 (+/-0.026) for {'C': 77.4263682681127}\n",
      "0.938 (+/-0.026) for {'C': 215.44346900318823}\n",
      "0.938 (+/-0.026) for {'C': 599.4842503189409}\n",
      "0.938 (+/-0.026) for {'C': 1668.100537200059}\n",
      "0.938 (+/-0.026) for {'C': 4641.588833612777}\n",
      "0.938 (+/-0.026) for {'C': 12915.496650148827}\n",
      "0.938 (+/-0.026) for {'C': 35938.13663804626}\n",
      "0.938 (+/-0.026) for {'C': 100000.0}\n",
      "\n",
      "Optimal parameters :\n",
      "{'C': 10.0} \n",
      "\n"
     ]
    }
   ],
   "source": [
    "# Label - Family \n",
    "L1_penalized_classifiers['Family'] = getBestParams(LinearSVC(penalty='l1', dual=False), settings,X_train, train_Family,\\\n",
    "                                                   X_test, test_Family)"
   ]
  },
  {
   "cell_type": "code",
   "execution_count": 21,
   "metadata": {},
   "outputs": [
    {
     "name": "stdout",
     "output_type": "stream",
     "text": [
      "Fitting 10 folds for each of 10 candidates, totalling 100 fits\n",
      "Wall time: 1min 26s\n",
      "Grid scores :\n",
      "\n",
      "0.949 (+/-0.021) for {'C': 10.0}\n",
      "0.949 (+/-0.022) for {'C': 27.825594022071243}\n",
      "0.949 (+/-0.022) for {'C': 77.4263682681127}\n",
      "0.949 (+/-0.022) for {'C': 215.44346900318823}\n",
      "0.949 (+/-0.022) for {'C': 599.4842503189409}\n",
      "0.949 (+/-0.022) for {'C': 1668.100537200059}\n",
      "0.949 (+/-0.022) for {'C': 4641.588833612777}\n",
      "0.949 (+/-0.022) for {'C': 12915.496650148827}\n",
      "0.949 (+/-0.022) for {'C': 35938.13663804626}\n",
      "0.949 (+/-0.022) for {'C': 100000.0}\n",
      "\n",
      "Optimal parameters :\n",
      "{'C': 27.825594022071243} \n",
      "\n"
     ]
    }
   ],
   "source": [
    "# Label - Genus \n",
    "L1_penalized_classifiers['Genus'] = getBestParams(LinearSVC(penalty='l1', dual=False), settings,X_train, train_Genus, \\\n",
    "                                                  X_test, test_Genus)"
   ]
  },
  {
   "cell_type": "code",
   "execution_count": 22,
   "metadata": {},
   "outputs": [
    {
     "name": "stdout",
     "output_type": "stream",
     "text": [
      "Fitting 10 folds for each of 10 candidates, totalling 100 fits\n",
      "Wall time: 1min 37s\n",
      "Grid scores :\n",
      "\n",
      "0.960 (+/-0.013) for {'C': 10.0}\n",
      "0.960 (+/-0.013) for {'C': 27.825594022071243}\n",
      "0.959 (+/-0.013) for {'C': 77.4263682681127}\n",
      "0.959 (+/-0.013) for {'C': 215.44346900318823}\n",
      "0.959 (+/-0.013) for {'C': 599.4842503189409}\n",
      "0.959 (+/-0.013) for {'C': 1668.100537200059}\n",
      "0.959 (+/-0.013) for {'C': 4641.588833612777}\n",
      "0.959 (+/-0.013) for {'C': 12915.496650148827}\n",
      "0.959 (+/-0.013) for {'C': 35938.13663804626}\n",
      "0.959 (+/-0.013) for {'C': 100000.0}\n",
      "\n",
      "Optimal parameters :\n",
      "{'C': 10.0} \n",
      "\n"
     ]
    }
   ],
   "source": [
    "# Label - Species \n",
    "L1_penalized_classifiers['Species'] = getBestParams(LinearSVC(penalty='l1', dual=False), settings,X_train, train_Species,\\\n",
    "                                                    X_test, test_Species)"
   ]
  },
  {
   "cell_type": "code",
   "execution_count": 23,
   "metadata": {},
   "outputs": [
    {
     "name": "stdout",
     "output_type": "stream",
     "text": [
      "L1-penalized SVC with Linear Kernal - Performance on test data:\n",
      "Exact match score:  0.9124594719777674\n",
      "Hamming Score:  0.9416396479851783\n"
     ]
    }
   ],
   "source": [
    "#Predictions for all 3 labels\n",
    "pred_Family = lin_svc(X_train,train_Family,X_test,test_Family,L1_penalized_classifiers['Family'])\n",
    "pred_Genus = lin_svc(X_train,train_Genus,X_test,test_Genus,L1_penalized_classifiers['Genus'])\n",
    "pred_Species = lin_svc(X_train,train_Species,X_test,test_Species,L1_penalized_classifiers['Species'])\n",
    "\n",
    "#Stack predictions and test for all 3 labels\n",
    "y_test = np.column_stack((test_Family, test_Genus, test_Species))\n",
    "y_pred = np.column_stack((pred_Family, pred_Genus, pred_Species))\n",
    "\n",
    "#Get exact match ratio and Hamming score \n",
    "print(\"L1-penalized SVC with Linear Kernal - Performance on test data:\")\n",
    "emr_scores['L-1 Linear'] = get_exact_match(y_test, y_pred)\n",
    "hamming_Scores['L-1 Linear'] = get_hamming(y_test, y_pred)"
   ]
  },
  {
   "cell_type": "code",
   "execution_count": 24,
   "metadata": {},
   "outputs": [
    {
     "name": "stdout",
     "output_type": "stream",
     "text": [
      "Evaluation of 'Family' label:\n",
      "\n",
      "[[   0    0   25    2]\n",
      " [   0  145    9    8]\n",
      " [   0    9  563   51]\n",
      " [   0   15   36 1296]]\n",
      "F1-score: 0.922\n",
      "Evaluation of 'Family' label:\n",
      "\n",
      "[[1224   13    5    6    0    1    0    2]\n",
      " [   7  151    3    1    0    0    0    0]\n",
      " [  19    4   60    0    0    0    0    1]\n",
      " [  10    0    0  454    0    0    0    4]\n",
      " [   0    0    1    8   87    0    0    0]\n",
      " [   2    0    0   15    0   17    0    0]\n",
      " [   5    0    0   13    2    0    7    0]\n",
      " [   1    0    0    3    0    0    0   33]]\n",
      "F1-score: 0.938\n",
      "Evaluation of 'Family' label:\n",
      "\n",
      "[[ 201    0   10    2    0    3    0    1    0    3]\n",
      " [   0 1030    1    0    0    0    0    0    0    0]\n",
      " [   1    0  153    4    0    3    0    0    1    0]\n",
      " [   3    9    5   65    0    1    0    0    0    1]\n",
      " [   3    0    0    0  130    2    0    0    0    0]\n",
      " [   0    2    0    0    1  325    1    0    1    3]\n",
      " [   1    0    0    1    3    5   86    0    0    0]\n",
      " [   1    0    0    0    6    5    0   22    0    0]\n",
      " [   0    0    0    0    1    0    2    0   24    0]\n",
      " [   0    0    0    1    0    0    0    0    1   35]]\n",
      "F1-score: 0.958\n"
     ]
    }
   ],
   "source": [
    "#Classification report: Confusion matrix,f1-score\n",
    "print(\"Evaluation of 'Family' label:\\n\") \n",
    "print(confusion_matrix(test_Family, pred_Family))\n",
    "print('F1-score: %0.3f' % f1_score(test_Family, pred_Family, average='weighted'))\n",
    "\n",
    "print(\"Evaluation of 'Family' label:\\n\") \n",
    "print(confusion_matrix(test_Genus, pred_Genus))\n",
    "print('F1-score: %0.3f' % f1_score(test_Genus, pred_Genus, average='weighted'))\n",
    "\n",
    "print(\"Evaluation of 'Family' label:\\n\") \n",
    "print(confusion_matrix(test_Species, pred_Species))\n",
    "print('F1-score: %0.3f' % f1_score(test_Species, pred_Species, average='weighted'))"
   ]
  },
  {
   "cell_type": "markdown",
   "metadata": {},
   "source": [
    "# Remedy class imbalance."
   ]
  },
  {
   "cell_type": "code",
   "execution_count": 25,
   "metadata": {},
   "outputs": [],
   "source": [
    "from imblearn.over_sampling import SMOTE\n",
    "\n",
    "smote = SMOTE(random_state=28)\n",
    "X_train_Family_bal, train_Family_bal = smote.fit_resample(X_train, train_Family)\n",
    "X_train_Genus_bal, train_Genus_bal = smote.fit_resample(X_train, train_Genus)\n",
    "X_train_Species_bal, train_Species_bal = smote.fit_resample(X_train, train_Species)\n",
    "\n",
    "L1_penalized_balanced_classifiers={}"
   ]
  },
  {
   "cell_type": "code",
   "execution_count": 26,
   "metadata": {},
   "outputs": [
    {
     "name": "stdout",
     "output_type": "stream",
     "text": [
      "Fitting 10 folds for each of 10 candidates, totalling 100 fits\n",
      "Wall time: 2min 51s\n",
      "Grid scores :\n",
      "\n",
      "0.949 (+/-0.011) for {'C': 10.0}\n",
      "0.949 (+/-0.011) for {'C': 27.825594022071243}\n",
      "0.949 (+/-0.011) for {'C': 77.4263682681127}\n",
      "0.949 (+/-0.011) for {'C': 215.44346900318823}\n",
      "0.949 (+/-0.011) for {'C': 599.4842503189409}\n",
      "0.949 (+/-0.011) for {'C': 1668.100537200059}\n",
      "0.949 (+/-0.011) for {'C': 4641.588833612777}\n",
      "0.949 (+/-0.011) for {'C': 12915.496650148827}\n",
      "0.949 (+/-0.011) for {'C': 35938.13663804626}\n",
      "0.949 (+/-0.011) for {'C': 100000.0}\n",
      "\n",
      "Optimal parameters :\n",
      "{'C': 10.0} \n",
      "\n"
     ]
    }
   ],
   "source": [
    "# Label - Family \n",
    "L1_penalized_balanced_classifiers['Family'] = getBestParams(LinearSVC(penalty='l1', dual=False), settings,\\\n",
    "                                                            X_train_Family_bal,train_Family_bal,X_test, test_Family)"
   ]
  },
  {
   "cell_type": "code",
   "execution_count": 27,
   "metadata": {},
   "outputs": [
    {
     "name": "stdout",
     "output_type": "stream",
     "text": [
      "Fitting 10 folds for each of 10 candidates, totalling 100 fits\n",
      "Wall time: 10min 6s\n",
      "Grid scores :\n",
      "\n",
      "0.957 (+/-0.005) for {'C': 10.0}\n",
      "0.957 (+/-0.004) for {'C': 27.825594022071243}\n",
      "0.957 (+/-0.004) for {'C': 77.4263682681127}\n",
      "0.957 (+/-0.005) for {'C': 215.44346900318823}\n",
      "0.957 (+/-0.004) for {'C': 599.4842503189409}\n",
      "0.957 (+/-0.004) for {'C': 1668.100537200059}\n",
      "0.957 (+/-0.004) for {'C': 4641.588833612777}\n",
      "0.957 (+/-0.004) for {'C': 12915.496650148827}\n",
      "0.957 (+/-0.004) for {'C': 35938.13663804626}\n",
      "0.957 (+/-0.004) for {'C': 100000.0}\n",
      "\n",
      "Optimal parameters :\n",
      "{'C': 27.825594022071243} \n",
      "\n"
     ]
    }
   ],
   "source": [
    "# Label - Genus \n",
    "L1_penalized_balanced_classifiers['Genus'] = getBestParams(LinearSVC(penalty='l1', dual=False), settings,X_train_Genus_bal, \n",
    "                                                           train_Genus_bal, X_test, test_Genus)"
   ]
  },
  {
   "cell_type": "code",
   "execution_count": 28,
   "metadata": {},
   "outputs": [
    {
     "name": "stdout",
     "output_type": "stream",
     "text": [
      "Fitting 10 folds for each of 10 candidates, totalling 100 fits\n",
      "Wall time: 12min 51s\n",
      "Grid scores :\n",
      "\n",
      "0.963 (+/-0.004) for {'C': 10.0}\n",
      "0.963 (+/-0.004) for {'C': 27.825594022071243}\n",
      "0.963 (+/-0.004) for {'C': 77.4263682681127}\n",
      "0.963 (+/-0.004) for {'C': 215.44346900318823}\n",
      "0.963 (+/-0.004) for {'C': 599.4842503189409}\n",
      "0.963 (+/-0.004) for {'C': 1668.100537200059}\n",
      "0.963 (+/-0.004) for {'C': 4641.588833612777}\n",
      "0.963 (+/-0.004) for {'C': 12915.496650148827}\n",
      "0.963 (+/-0.004) for {'C': 35938.13663804626}\n",
      "0.963 (+/-0.004) for {'C': 100000.0}\n",
      "\n",
      "Optimal parameters :\n",
      "{'C': 599.4842503189409} \n",
      "\n"
     ]
    }
   ],
   "source": [
    "# Label - Species \n",
    "L1_penalized_balanced_classifiers['Species'] = getBestParams(LinearSVC(penalty='l1', dual=False), settings,X_train_Species_bal,\n",
    "                                                             train_Species_bal,X_test, test_Species)"
   ]
  },
  {
   "cell_type": "code",
   "execution_count": 29,
   "metadata": {},
   "outputs": [
    {
     "name": "stdout",
     "output_type": "stream",
     "text": [
      "L1-penalized SVC with Linear Kernal and SMOTE - Performance on test data:\n",
      "Exact match score:  0.8582677165354331\n",
      "Hamming Score:  0.8948587308939324\n"
     ]
    }
   ],
   "source": [
    "#Predictions for all 3 labels\n",
    "pred_Family = lin_svc(X_train_Family_bal, train_Family_bal,X_test,test_Family,L1_penalized_balanced_classifiers['Family'])\n",
    "pred_Genus = lin_svc(X_train_Genus_bal, train_Genus_bal,X_test,test_Genus,L1_penalized_balanced_classifiers['Genus'])\n",
    "pred_Species = lin_svc(X_train_Species_bal, train_Species_bal,X_test,test_Species,\\\n",
    "                       L1_penalized_balanced_classifiers['Species'])\n",
    "\n",
    "#Stack predictions and test for all 3 labels\n",
    "y_test = np.column_stack((test_Family, test_Genus, test_Species))\n",
    "y_pred = np.column_stack((pred_Family, pred_Genus, pred_Species))\n",
    "\n",
    "#Get exact match ratio and Hamming score \n",
    "print(\"L1-penalized SVC with Linear Kernal and SMOTE - Performance on test data:\")\n",
    "emr_scores['L-1 Linear SMOTE'] = get_exact_match(y_test, y_pred)\n",
    "hamming_Scores['L-1 Linear SMOTE'] = get_hamming(y_test, y_pred)"
   ]
  },
  {
   "cell_type": "code",
   "execution_count": 30,
   "metadata": {},
   "outputs": [
    {
     "name": "stdout",
     "output_type": "stream",
     "text": [
      "Evaluation of 'Family' label:\n",
      "\n",
      "[[  24    0    2    1]\n",
      " [   0  158    1    3]\n",
      " [  18   31  534   40]\n",
      " [  25   31   46 1245]]\n",
      "F1-score: 0.913\n",
      "Evaluation of 'Family' label:\n",
      "\n",
      "[[1117   32   44    8    1   21   22    6]\n",
      " [   2  155    3    2    0    0    0    0]\n",
      " [   5    2   75    0    0    0    1    1]\n",
      " [  11    0    2  430    1    9    8    7]\n",
      " [   0    0    1    5   87    1    2    0]\n",
      " [   0    0    0    4    0   30    0    0]\n",
      " [   0    0    0    1    1    0   25    0]\n",
      " [   0    0    0    1    0    0    1   35]]\n",
      "F1-score: 0.912\n",
      "Evaluation of 'Family' label:\n",
      "\n",
      "[[ 197    0   10    5    0    2    0    2    1    3]\n",
      " [   0 1027    1    1    0    1    0    0    0    1]\n",
      " [   0    0  154    3    0    5    0    0    0    0]\n",
      " [   1    2    2   75    0    1    0    0    2    1]\n",
      " [   3    0    0    0  129    1    0    1    1    0]\n",
      " [   1    3    0    0    3  316    0    4    3    3]\n",
      " [   0    0    0    1    4    0   89    2    0    0]\n",
      " [   1    0    0    0    3    0    0   29    1    0]\n",
      " [   0    0    0    0    0    1    1    0   25    0]\n",
      " [   0    0    0    1    0    0    0    0    1   35]]\n",
      "F1-score: 0.962\n"
     ]
    }
   ],
   "source": [
    "#Classification report: Confusion matrix,f1-score\n",
    "print(\"Evaluation of 'Family' label:\\n\") \n",
    "print(confusion_matrix(test_Family, pred_Family))\n",
    "print('F1-score: %0.3f' % f1_score(test_Family, pred_Family, average='weighted'))\n",
    "\n",
    "print(\"Evaluation of 'Family' label:\\n\") \n",
    "print(confusion_matrix(test_Genus, pred_Genus))\n",
    "print('F1-score: %0.3f' % f1_score(test_Genus, pred_Genus, average='weighted'))\n",
    "\n",
    "print(\"Evaluation of 'Family' label:\\n\") \n",
    "print(confusion_matrix(test_Species, pred_Species))\n",
    "print('F1-score: %0.3f' % f1_score(test_Species, pred_Species, average='weighted'))"
   ]
  },
  {
   "cell_type": "markdown",
   "metadata": {},
   "source": [
    "# Conclusions:"
   ]
  },
  {
   "cell_type": "code",
   "execution_count": 31,
   "metadata": {},
   "outputs": [
    {
     "data": {
      "text/html": [
       "<div>\n",
       "<style scoped>\n",
       "    .dataframe tbody tr th:only-of-type {\n",
       "        vertical-align: middle;\n",
       "    }\n",
       "\n",
       "    .dataframe tbody tr th {\n",
       "        vertical-align: top;\n",
       "    }\n",
       "\n",
       "    .dataframe thead th {\n",
       "        text-align: right;\n",
       "    }\n",
       "</style>\n",
       "<table border=\"1\" class=\"dataframe\">\n",
       "  <thead>\n",
       "    <tr style=\"text-align: right;\">\n",
       "      <th></th>\n",
       "      <th>gaussian</th>\n",
       "      <th>L-1 Linear</th>\n",
       "      <th>L-1 Linear SMOTE</th>\n",
       "    </tr>\n",
       "  </thead>\n",
       "  <tbody>\n",
       "    <tr>\n",
       "      <th>Exact Match Score</th>\n",
       "      <td>0.986568</td>\n",
       "      <td>0.912459</td>\n",
       "      <td>0.858268</td>\n",
       "    </tr>\n",
       "    <tr>\n",
       "      <th>Hamming Score</th>\n",
       "      <td>0.991663</td>\n",
       "      <td>0.941640</td>\n",
       "      <td>0.894859</td>\n",
       "    </tr>\n",
       "  </tbody>\n",
       "</table>\n",
       "</div>"
      ],
      "text/plain": [
       "                   gaussian  L-1 Linear  L-1 Linear SMOTE\n",
       "Exact Match Score  0.986568    0.912459          0.858268\n",
       "Hamming Score      0.991663    0.941640          0.894859"
      ]
     },
     "execution_count": 31,
     "metadata": {},
     "output_type": "execute_result"
    }
   ],
   "source": [
    "summary = pd.DataFrame.from_dict([emr_scores, hamming_Scores])\n",
    "indx = ['Exact Match Score','Hamming Score']\n",
    "summary.index=indx\n",
    "summary"
   ]
  },
  {
   "cell_type": "markdown",
   "metadata": {},
   "source": [
    "<b>Gaussian with standardization has the best exact match score and hamming score</b>"
   ]
  },
  {
   "cell_type": "markdown",
   "metadata": {},
   "source": [
    "# 2. K-Means Clustering on a Multi-Class and Multi-Label Data Set"
   ]
  },
  {
   "cell_type": "code",
   "execution_count": 32,
   "metadata": {},
   "outputs": [
    {
     "data": {
      "text/plain": [
       "'https://scikit-learn.org/stable/auto_examples/cluster/plot_kmeans_silhouette_analysis.html'"
      ]
     },
     "execution_count": 32,
     "metadata": {},
     "output_type": "execute_result"
    }
   ],
   "source": [
    "from sklearn.cluster import KMeans\n",
    "from sklearn.metrics import silhouette_samples, silhouette_score\n",
    "\n",
    "\"\"\"https://scikit-learn.org/stable/auto_examples/cluster/plot_kmeans_silhouette_analysis.html\"\"\""
   ]
  },
  {
   "cell_type": "code",
   "execution_count": 33,
   "metadata": {},
   "outputs": [],
   "source": [
    "def silhouette_score_K(num_cluster, X, rand):\n",
    "\n",
    "    \n",
    "    silhouette_avg_all = []\n",
    "    for n in range(2, num_cluster + 1):\n",
    "        clusterer = KMeans(n_clusters=n, random_state=rand)\n",
    "        cluster_labels = clusterer.fit_predict(X)\n",
    "        silhouette_avg_all.append(silhouette_score(X, cluster_labels))\n",
    "        \n",
    "    best_K = (silhouette_avg_all.index(max(silhouette_avg_all))) + 2 \n",
    "    return best_K"
   ]
  },
  {
   "cell_type": "code",
   "execution_count": 34,
   "metadata": {},
   "outputs": [
    {
     "name": "stdout",
     "output_type": "stream",
     "text": [
      "The optimal k for clustering using silhouette score is: 4\n"
     ]
    }
   ],
   "source": [
    "X = MFCC_DF.iloc[:, :22]\n",
    "Y = MFCC_DF.iloc[:, 22:25]\n",
    "\n",
    "multi_labels = ['Family','Genus','Species']\n",
    "# Get k with max silhoutter score for clustering\n",
    "best_K = silhouette_score_K(50, X, 42)\n",
    "\n",
    "print(\"The optimal k for clustering using silhouette score is:\", best_K)"
   ]
  },
  {
   "cell_type": "markdown",
   "metadata": {},
   "source": [
    "# In each cluster, determining which family is the majority by reading the true labels.Repeat for genus and species."
   ]
  },
  {
   "cell_type": "code",
   "execution_count": 35,
   "metadata": {},
   "outputs": [],
   "source": [
    "def getMajorityLabel(bestK, cluster_labels, Y): \n",
    "    \n",
    "    majority_Label_Clusters = pd.DataFrame(columns=Y.columns)\n",
    "    cluster_Y = Y\n",
    "    cluster_Y['cluster_labels'] = cluster_labels\n",
    "    label_Triplet =[]\n",
    "    \n",
    "    for lab in Y.columns:\n",
    "        custer_maj = []\n",
    "        for k in range(bestK):\n",
    "            cluster_lab_majority = cluster_Y.groupby(['cluster_labels',lab]).size()[k].idxmax()\n",
    "            custer_maj.append(cluster_lab_majority)\n",
    "        majority_Label_Clusters[lab]= custer_maj\n",
    "    return majority_Label_Clusters"
   ]
  },
  {
   "cell_type": "code",
   "execution_count": 36,
   "metadata": {},
   "outputs": [
    {
     "name": "stdout",
     "output_type": "stream",
     "text": [
      "Labels for each cluster:-\n"
     ]
    },
    {
     "data": {
      "text/html": [
       "<div>\n",
       "<style scoped>\n",
       "    .dataframe tbody tr th:only-of-type {\n",
       "        vertical-align: middle;\n",
       "    }\n",
       "\n",
       "    .dataframe tbody tr th {\n",
       "        vertical-align: top;\n",
       "    }\n",
       "\n",
       "    .dataframe thead th {\n",
       "        text-align: right;\n",
       "    }\n",
       "</style>\n",
       "<table border=\"1\" class=\"dataframe\">\n",
       "  <thead>\n",
       "    <tr style=\"text-align: right;\">\n",
       "      <th></th>\n",
       "      <th>Family</th>\n",
       "      <th>Genus</th>\n",
       "      <th>Species</th>\n",
       "      <th>cluster_labels</th>\n",
       "    </tr>\n",
       "  </thead>\n",
       "  <tbody>\n",
       "    <tr>\n",
       "      <th>0</th>\n",
       "      <td>Leptodactylidae</td>\n",
       "      <td>Adenomera</td>\n",
       "      <td>AdenomeraHylaedactylus</td>\n",
       "      <td>0</td>\n",
       "    </tr>\n",
       "    <tr>\n",
       "      <th>1</th>\n",
       "      <td>Dendrobatidae</td>\n",
       "      <td>Ameerega</td>\n",
       "      <td>Ameeregatrivittata</td>\n",
       "      <td>1</td>\n",
       "    </tr>\n",
       "    <tr>\n",
       "      <th>2</th>\n",
       "      <td>Hylidae</td>\n",
       "      <td>Hypsiboas</td>\n",
       "      <td>HypsiboasCinerascens</td>\n",
       "      <td>2</td>\n",
       "    </tr>\n",
       "    <tr>\n",
       "      <th>3</th>\n",
       "      <td>Hylidae</td>\n",
       "      <td>Hypsiboas</td>\n",
       "      <td>HypsiboasCordobae</td>\n",
       "      <td>3</td>\n",
       "    </tr>\n",
       "  </tbody>\n",
       "</table>\n",
       "</div>"
      ],
      "text/plain": [
       "            Family      Genus                 Species  cluster_labels\n",
       "0  Leptodactylidae  Adenomera  AdenomeraHylaedactylus               0\n",
       "1    Dendrobatidae   Ameerega      Ameeregatrivittata               1\n",
       "2          Hylidae  Hypsiboas    HypsiboasCinerascens               2\n",
       "3          Hylidae  Hypsiboas       HypsiboasCordobae               3"
      ]
     },
     "metadata": {},
     "output_type": "display_data"
    }
   ],
   "source": [
    "# kmeans clustering\n",
    "kmeans = KMeans(n_clusters=best_K, random_state=0)\n",
    "cluster_Labels = kmeans.fit_predict(X)\n",
    "\n",
    "# Majority label\n",
    "print(\"Labels for each cluster:-\")\n",
    "cluster_Major_Label = getMajorityLabel(best_K, cluster_Labels, Y)\n",
    "display(cluster_Major_Label)"
   ]
  },
  {
   "cell_type": "markdown",
   "metadata": {},
   "source": [
    "# For each cluster we have a majority label triplet (family, genus, species). Calculate the average Hamming distance, Hamming score, and Hamming loss)"
   ]
  },
  {
   "cell_type": "markdown",
   "metadata": {},
   "source": [
    "<b>Hamming Distance:</b> Average of Sum of mismatched labels for all samples \n",
    "\n",
    "<b>Hamming Score:</b> Fraction of correct labels to total number of labels\n",
    "\n",
    "<b>Hamming Loss:</b> Fraction of wrong labels to total number of labels\n",
    "\n",
    "https://www.statology.org/hamming-distance-python"
   ]
  },
  {
   "cell_type": "code",
   "execution_count": 37,
   "metadata": {},
   "outputs": [],
   "source": [
    "def get_hamming_metrics(cluster_Major_Label,cluster_Labels, Y):\n",
    "    \n",
    "    y_cluster = Y.copy()\n",
    "    y_cluster['cluster_label'] = cluster_Labels\n",
    "    \n",
    "    #hamming_dist = 0\n",
    "    hamming_dist1 = 0\n",
    "    for cluster in range(len(cluster_Major_Label)):\n",
    "        actual = y_cluster.groupby('cluster_label').get_group(cluster)\n",
    "        pred = cluster_Major_Label.iloc[cluster,:]\n",
    "        for index, row in actual.iterrows():\n",
    "            hamming_dist1+=np.sum(np.not_equal(row[:3], pred[:3]))\n",
    "            #hamming_dist+=distance.hamming(row[:3], pred[:3])\n",
    "    hamming_distance1 = round(hamming_dist1/Y.shape[0],4)\n",
    "    #hamming_distance = round(hamming_dist/Y.shape[0],4)\n",
    "    hamming_loss = round(hamming_dist1/(Y.shape[0]*Y.shape[1]),4)   \n",
    "    hamming_score = 1- hamming_loss\n",
    "        \n",
    "    return hamming_distance1, hamming_loss , hamming_score"
   ]
  },
  {
   "cell_type": "code",
   "execution_count": 38,
   "metadata": {},
   "outputs": [
    {
     "name": "stdout",
     "output_type": "stream",
     "text": [
      "Metrics:\n",
      "\n",
      "Average Hamming Distance = 0.6653\n",
      "Average Hamming Loss = 0.1663\n",
      "Average Hamming Score = 0.8337\n",
      "\n"
     ]
    }
   ],
   "source": [
    "hamming_distance, hamming_loss , hamming_score = get_hamming_metrics(cluster_Major_Label,cluster_Labels, Y)\n",
    "print(\"Metrics:\\n\")\n",
    "print(\"Average Hamming Distance = {}\\nAverage Hamming Loss = {}\\nAverage Hamming Score = {}\\n\".format(hamming_distance, hamming_loss , hamming_score))\n"
   ]
  },
  {
   "cell_type": "markdown",
   "metadata": {},
   "source": [
    "# Monte-Carlo Simulation"
   ]
  },
  {
   "cell_type": "code",
   "execution_count": 39,
   "metadata": {},
   "outputs": [],
   "source": [
    "def monteCarloSimulation(max_iter, X, Y):   \n",
    "    multi_labels = ['Family','Genus','Species']\n",
    "    hamming_dist_all = []\n",
    "    hamming_loss_all = []\n",
    "    \n",
    "    for itr in range(max_iter):\n",
    "        # Get k with max silhoutte score for clustering\n",
    "        best_K = silhouette_score_K(max_iter, X, itr)\n",
    "        print(\"Iteration {} --> Optimal k ={}\".format(itr+1, best_K))\n",
    "        \n",
    "        # kmeans clustering\n",
    "        kmeans = KMeans(n_clusters=best_K, random_state=itr)\n",
    "        cluster_Labels = kmeans.fit_predict(X)\n",
    "\n",
    "        # Majority class for each label\n",
    "        cluster_Major_Label = getMajorityLabel(best_K, cluster_Labels, Y)\n",
    "        \n",
    "        #Hamming distance, Hamming loss, Hamming Score\n",
    "        hamming_distance, hamming_loss , hamming_score = get_hamming_metrics(cluster_Major_Label,cluster_Labels, Y)\n",
    "        print(\"Hamming Distance : {}, Hamming Loss: {}, Hamming Score: {}\\n\".format(hamming_distance, hamming_loss , \\\n",
    "                                                                                    hamming_score))\n",
    "        \n",
    "        hamming_dist_all.append(hamming_distance)\n",
    "        hamming_loss_all.append(hamming_loss)\n",
    "        \n",
    "    return hamming_dist_all, hamming_loss_all"
   ]
  },
  {
   "cell_type": "code",
   "execution_count": 40,
   "metadata": {},
   "outputs": [
    {
     "name": "stdout",
     "output_type": "stream",
     "text": [
      "Iteration 1 --> Optimal k =4\n",
      "Hamming Distance : 0.6653, Hamming Loss: 0.1663, Hamming Score: 0.8337\n",
      "\n",
      "Iteration 2 --> Optimal k =4\n",
      "Hamming Distance : 0.6673, Hamming Loss: 0.1668, Hamming Score: 0.8331999999999999\n",
      "\n",
      "Iteration 3 --> Optimal k =4\n",
      "Hamming Distance : 0.7358, Hamming Loss: 0.1839, Hamming Score: 0.8161\n",
      "\n",
      "Iteration 4 --> Optimal k =4\n",
      "Hamming Distance : 0.6673, Hamming Loss: 0.1668, Hamming Score: 0.8331999999999999\n",
      "\n",
      "Iteration 5 --> Optimal k =4\n",
      "Hamming Distance : 0.6673, Hamming Loss: 0.1668, Hamming Score: 0.8331999999999999\n",
      "\n",
      "Iteration 6 --> Optimal k =4\n",
      "Hamming Distance : 0.6673, Hamming Loss: 0.1668, Hamming Score: 0.8331999999999999\n",
      "\n",
      "Iteration 7 --> Optimal k =4\n",
      "Hamming Distance : 0.6673, Hamming Loss: 0.1668, Hamming Score: 0.8331999999999999\n",
      "\n",
      "Iteration 8 --> Optimal k =4\n",
      "Hamming Distance : 0.6673, Hamming Loss: 0.1668, Hamming Score: 0.8331999999999999\n",
      "\n",
      "Iteration 9 --> Optimal k =4\n",
      "Hamming Distance : 0.6673, Hamming Loss: 0.1668, Hamming Score: 0.8331999999999999\n",
      "\n",
      "Iteration 10 --> Optimal k =4\n",
      "Hamming Distance : 0.6673, Hamming Loss: 0.1668, Hamming Score: 0.8331999999999999\n",
      "\n",
      "Iteration 11 --> Optimal k =4\n",
      "Hamming Distance : 0.6673, Hamming Loss: 0.1668, Hamming Score: 0.8331999999999999\n",
      "\n",
      "Iteration 12 --> Optimal k =4\n",
      "Hamming Distance : 0.6673, Hamming Loss: 0.1668, Hamming Score: 0.8331999999999999\n",
      "\n",
      "Iteration 13 --> Optimal k =4\n",
      "Hamming Distance : 0.6673, Hamming Loss: 0.1668, Hamming Score: 0.8331999999999999\n",
      "\n",
      "Iteration 14 --> Optimal k =4\n",
      "Hamming Distance : 0.6674, Hamming Loss: 0.1669, Hamming Score: 0.8331\n",
      "\n",
      "Iteration 15 --> Optimal k =4\n",
      "Hamming Distance : 0.6673, Hamming Loss: 0.1668, Hamming Score: 0.8331999999999999\n",
      "\n",
      "Iteration 16 --> Optimal k =4\n",
      "Hamming Distance : 0.6674, Hamming Loss: 0.1669, Hamming Score: 0.8331\n",
      "\n",
      "Iteration 17 --> Optimal k =4\n",
      "Hamming Distance : 0.6673, Hamming Loss: 0.1668, Hamming Score: 0.8331999999999999\n",
      "\n",
      "Iteration 18 --> Optimal k =4\n",
      "Hamming Distance : 0.7012, Hamming Loss: 0.1753, Hamming Score: 0.8247\n",
      "\n",
      "Iteration 19 --> Optimal k =4\n",
      "Hamming Distance : 0.6673, Hamming Loss: 0.1668, Hamming Score: 0.8331999999999999\n",
      "\n",
      "Iteration 20 --> Optimal k =4\n",
      "Hamming Distance : 0.6653, Hamming Loss: 0.1663, Hamming Score: 0.8337\n",
      "\n",
      "Iteration 21 --> Optimal k =4\n",
      "Hamming Distance : 0.7022, Hamming Loss: 0.1755, Hamming Score: 0.8245\n",
      "\n",
      "Iteration 22 --> Optimal k =4\n",
      "Hamming Distance : 0.6673, Hamming Loss: 0.1668, Hamming Score: 0.8331999999999999\n",
      "\n",
      "Iteration 23 --> Optimal k =4\n",
      "Hamming Distance : 0.6673, Hamming Loss: 0.1668, Hamming Score: 0.8331999999999999\n",
      "\n",
      "Iteration 24 --> Optimal k =4\n",
      "Hamming Distance : 0.6674, Hamming Loss: 0.1669, Hamming Score: 0.8331\n",
      "\n",
      "Iteration 25 --> Optimal k =4\n",
      "Hamming Distance : 0.6673, Hamming Loss: 0.1668, Hamming Score: 0.8331999999999999\n",
      "\n",
      "Iteration 26 --> Optimal k =4\n",
      "Hamming Distance : 0.6673, Hamming Loss: 0.1668, Hamming Score: 0.8331999999999999\n",
      "\n",
      "Iteration 27 --> Optimal k =4\n",
      "Hamming Distance : 0.6673, Hamming Loss: 0.1668, Hamming Score: 0.8331999999999999\n",
      "\n",
      "Iteration 28 --> Optimal k =4\n",
      "Hamming Distance : 0.6674, Hamming Loss: 0.1669, Hamming Score: 0.8331\n",
      "\n",
      "Iteration 29 --> Optimal k =4\n",
      "Hamming Distance : 0.6673, Hamming Loss: 0.1668, Hamming Score: 0.8331999999999999\n",
      "\n",
      "Iteration 30 --> Optimal k =4\n",
      "Hamming Distance : 0.6664, Hamming Loss: 0.1666, Hamming Score: 0.8334\n",
      "\n",
      "Iteration 31 --> Optimal k =4\n",
      "Hamming Distance : 0.6673, Hamming Loss: 0.1668, Hamming Score: 0.8331999999999999\n",
      "\n",
      "Iteration 32 --> Optimal k =4\n",
      "Hamming Distance : 0.6673, Hamming Loss: 0.1668, Hamming Score: 0.8331999999999999\n",
      "\n",
      "Iteration 33 --> Optimal k =4\n",
      "Hamming Distance : 0.6673, Hamming Loss: 0.1668, Hamming Score: 0.8331999999999999\n",
      "\n",
      "Iteration 34 --> Optimal k =4\n",
      "Hamming Distance : 0.6673, Hamming Loss: 0.1668, Hamming Score: 0.8331999999999999\n",
      "\n",
      "Iteration 35 --> Optimal k =4\n",
      "Hamming Distance : 0.5582, Hamming Loss: 0.1395, Hamming Score: 0.8605\n",
      "\n",
      "Iteration 36 --> Optimal k =4\n",
      "Hamming Distance : 0.6673, Hamming Loss: 0.1668, Hamming Score: 0.8331999999999999\n",
      "\n",
      "Iteration 37 --> Optimal k =4\n",
      "Hamming Distance : 0.6673, Hamming Loss: 0.1668, Hamming Score: 0.8331999999999999\n",
      "\n",
      "Iteration 38 --> Optimal k =4\n",
      "Hamming Distance : 0.6673, Hamming Loss: 0.1668, Hamming Score: 0.8331999999999999\n",
      "\n",
      "Iteration 39 --> Optimal k =4\n",
      "Hamming Distance : 0.6673, Hamming Loss: 0.1668, Hamming Score: 0.8331999999999999\n",
      "\n",
      "Iteration 40 --> Optimal k =4\n",
      "Hamming Distance : 0.6673, Hamming Loss: 0.1668, Hamming Score: 0.8331999999999999\n",
      "\n",
      "Iteration 41 --> Optimal k =4\n",
      "Hamming Distance : 0.6673, Hamming Loss: 0.1668, Hamming Score: 0.8331999999999999\n",
      "\n",
      "Iteration 42 --> Optimal k =4\n",
      "Hamming Distance : 0.6673, Hamming Loss: 0.1668, Hamming Score: 0.8331999999999999\n",
      "\n",
      "Iteration 43 --> Optimal k =4\n",
      "Hamming Distance : 0.6673, Hamming Loss: 0.1668, Hamming Score: 0.8331999999999999\n",
      "\n",
      "Iteration 44 --> Optimal k =4\n",
      "Hamming Distance : 0.6673, Hamming Loss: 0.1668, Hamming Score: 0.8331999999999999\n",
      "\n",
      "Iteration 45 --> Optimal k =4\n",
      "Hamming Distance : 0.6673, Hamming Loss: 0.1668, Hamming Score: 0.8331999999999999\n",
      "\n",
      "Iteration 46 --> Optimal k =4\n",
      "Hamming Distance : 0.6653, Hamming Loss: 0.1663, Hamming Score: 0.8337\n",
      "\n",
      "Iteration 47 --> Optimal k =4\n",
      "Hamming Distance : 0.6673, Hamming Loss: 0.1668, Hamming Score: 0.8331999999999999\n",
      "\n",
      "Iteration 48 --> Optimal k =4\n",
      "Hamming Distance : 0.6673, Hamming Loss: 0.1668, Hamming Score: 0.8331999999999999\n",
      "\n",
      "Iteration 49 --> Optimal k =4\n",
      "Hamming Distance : 0.8402, Hamming Loss: 0.21, Hamming Score: 0.79\n",
      "\n",
      "Iteration 50 --> Optimal k =4\n",
      "Hamming Distance : 0.6673, Hamming Loss: 0.1668, Hamming Score: 0.8331999999999999\n",
      "\n",
      "Average hamming distance = 0.6711919999999999\n",
      "Standard deviation of hamming distance = 0.031020044100548917\n"
     ]
    }
   ],
   "source": [
    "X = MFCC_DF.iloc[:, :22]\n",
    "Y = MFCC_DF.iloc[:, 22:25]   \n",
    "\n",
    "hamming_dist, hamming_loss = monteCarloSimulation(50, X, Y)\n",
    "\n",
    "hamming_diatnce_all = np.array(hamming_dist)\n",
    "print(\"Average hamming distance = {}\\nStandard deviation of hamming distance = {}\".format(np.mean(hamming_diatnce_all),\\\n",
    "                                                                                         np.std(hamming_diatnce_all)))"
   ]
  },
  {
   "cell_type": "markdown",
   "metadata": {},
   "source": [
    "# Average and standard deviation of the 50 Hamming Distances "
   ]
  },
  {
   "cell_type": "code",
   "execution_count": 41,
   "metadata": {},
   "outputs": [
    {
     "name": "stdout",
     "output_type": "stream",
     "text": [
      "Average hamming distance = 0.6711919999999999\n",
      "Standard deviation of hamming distance = 0.031020044100548917\n"
     ]
    }
   ],
   "source": [
    "print(\"Average hamming distance = {}\\nStandard deviation of hamming distance = {}\".format(np.mean(hamming_diatnce_all),\\\n",
    "                                                                                         np.std(hamming_diatnce_all)))"
   ]
  }
 ],
 "metadata": {
  "kernelspec": {
   "display_name": "Python 3",
   "language": "python",
   "name": "python3"
  },
  "language_info": {
   "codemirror_mode": {
    "name": "ipython",
    "version": 3
   },
   "file_extension": ".py",
   "mimetype": "text/x-python",
   "name": "python",
   "nbconvert_exporter": "python",
   "pygments_lexer": "ipython3",
   "version": "3.8.5"
  }
 },
 "nbformat": 4,
 "nbformat_minor": 5
}
